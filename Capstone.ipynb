{
  "nbformat": 4,
  "nbformat_minor": 0,
  "metadata": {
    "colab": {
      "provenance": [],
      "gpuType": "T4"
    },
    "kernelspec": {
      "name": "python3",
      "display_name": "Python 3"
    },
    "language_info": {
      "name": "python"
    },
    "accelerator": "GPU"
  },
  "cells": [
    {
      "cell_type": "markdown",
      "source": [
        "#Import Libraries"
      ],
      "metadata": {
        "id": "0f9A8LHEZMPT"
      }
    },
    {
      "cell_type": "code",
      "execution_count": 1,
      "metadata": {
        "id": "xP344pwtZLFW"
      },
      "outputs": [],
      "source": [
        "import tensorflow as tf\n",
        "import numpy as np\n",
        "import cv2\n",
        "import matplotlib.pyplot as plt\n",
        "import os\n",
        "import skimage\n",
        "import seaborn as sns"
      ]
    },
    {
      "cell_type": "code",
      "source": [
        "from tensorflow import keras\n",
        "from sklearn.model_selection import train_test_split\n",
        "from sklearn.preprocessing import LabelEncoder\n",
        "from skimage.transform import resize"
      ],
      "metadata": {
        "id": "FttyivYlZv5V"
      },
      "execution_count": 2,
      "outputs": []
    },
    {
      "cell_type": "code",
      "source": [
        "from google.colab import drive\n",
        "drive.mount('/content/drive')"
      ],
      "metadata": {
        "colab": {
          "base_uri": "https://localhost:8080/"
        },
        "id": "zxYI1UeI2UkU",
        "outputId": "7c8c41f5-0a35-4341-c65a-abef3458cf7a"
      },
      "execution_count": 3,
      "outputs": [
        {
          "output_type": "stream",
          "name": "stdout",
          "text": [
            "Drive already mounted at /content/drive; to attempt to forcibly remount, call drive.mount(\"/content/drive\", force_remount=True).\n"
          ]
        }
      ]
    },
    {
      "cell_type": "markdown",
      "source": [
        "#Data Preprocessing"
      ],
      "metadata": {
        "id": "6prYsMpeZ5lk"
      }
    },
    {
      "cell_type": "code",
      "source": [
        "import random\n",
        "import shutil"
      ],
      "metadata": {
        "id": "Mp8BOyKd-Mfe"
      },
      "execution_count": 4,
      "outputs": []
    },
    {
      "cell_type": "code",
      "source": [
        "batch_size = 64\n",
        "imageSize = 64\n",
        "target_dims = (imageSize, imageSize, 3)\n",
        "num_classes = 27\n",
        "\n",
        "train_len = 2308\n",
        "train_dir = '/content/drive/MyDrive/Capstone/data_sign_language/training/training/'\n",
        "\n",
        "def get_data(folder):\n",
        "    X = np.empty((train_len, imageSize, imageSize, 3), dtype=np.float32)\n",
        "    y = np.empty((train_len,), dtype=np.int32)\n",
        "    cnt = 0\n",
        "    for folderName in os.listdir(folder):\n",
        "        if not folderName.startswith('.'):\n",
        "            if folderName in ['a']:\n",
        "                label = 0\n",
        "            elif folderName in ['b']:\n",
        "                label = 1\n",
        "            elif folderName in ['c']:\n",
        "                label = 2\n",
        "            elif folderName in ['d']:\n",
        "                label = 3\n",
        "            elif folderName in ['e']:\n",
        "                label = 4\n",
        "            elif folderName in ['f']:\n",
        "                label = 5\n",
        "            elif folderName in ['g']:\n",
        "                label = 6\n",
        "            elif folderName in ['h']:\n",
        "                label = 7\n",
        "            elif folderName in ['i']:\n",
        "                label = 8\n",
        "            elif folderName in ['j']:\n",
        "                label = 9\n",
        "            elif folderName in ['k']:\n",
        "                label = 10\n",
        "            elif folderName in ['l']:\n",
        "                label = 11\n",
        "            elif folderName in ['m']:\n",
        "                label = 12\n",
        "            elif folderName in ['n']:\n",
        "                label = 13\n",
        "            elif folderName in ['o']:\n",
        "                label = 14\n",
        "            elif folderName in ['p']:\n",
        "                label = 15\n",
        "            elif folderName in ['q']:\n",
        "                label = 16\n",
        "            elif folderName in ['r']:\n",
        "                label = 17\n",
        "            elif folderName in ['s']:\n",
        "                label = 18\n",
        "            elif folderName in ['t']:\n",
        "                label = 19\n",
        "            elif folderName in ['u']:\n",
        "                label = 20\n",
        "            elif folderName in ['v']:\n",
        "                label = 21\n",
        "            elif folderName in ['w']:\n",
        "                label = 22\n",
        "            elif folderName in ['x']:\n",
        "                label = 23\n",
        "            elif folderName in ['y']:\n",
        "                label = 24\n",
        "            elif folderName in ['z']:\n",
        "                label = 25\n",
        "            elif folderName in ['Space']:\n",
        "                label = 26\n",
        "            else:\n",
        "                label = 27\n",
        "            for image_filename in os.listdir(folder + folderName):\n",
        "                img_file = cv2.imread(folder + folderName + '/' + image_filename)\n",
        "                if img_file is not None:\n",
        "                    img_file = skimage.transform.resize(img_file, (imageSize, imageSize, 3))\n",
        "                    img_arr = np.asarray(img_file).reshape((-1, imageSize, imageSize, 3))\n",
        "\n",
        "                    X[cnt] = img_arr\n",
        "                    y[cnt] = label\n",
        "                    cnt += 1\n",
        "    return X,y\n",
        "X_train, y_train = get_data(train_dir)\n",
        "print(\"Images successfully imported...\")"
      ],
      "metadata": {
        "colab": {
          "base_uri": "https://localhost:8080/"
        },
        "id": "idfzhQF0x5fa",
        "outputId": "7d615056-5cd8-4682-f3ee-c807bb9dcff0"
      },
      "execution_count": 5,
      "outputs": [
        {
          "output_type": "stream",
          "name": "stdout",
          "text": [
            "Images successfully imported...\n"
          ]
        }
      ]
    },
    {
      "cell_type": "code",
      "source": [
        "print(\"The shape of X_train is : \", X_train.shape)\n",
        "print(\"The shape of y_train is : \", y_train.shape)"
      ],
      "metadata": {
        "id": "-CqrvnFg9Rz8",
        "colab": {
          "base_uri": "https://localhost:8080/"
        },
        "outputId": "5b71378f-33af-43d6-e278-fee3c325d77d"
      },
      "execution_count": 6,
      "outputs": [
        {
          "output_type": "stream",
          "name": "stdout",
          "text": [
            "The shape of X_train is :  (2308, 64, 64, 3)\n",
            "The shape of y_train is :  (2308,)\n"
          ]
        }
      ]
    },
    {
      "cell_type": "code",
      "source": [
        "print(\"The shape of one image is : \", X_train[0].shape)"
      ],
      "metadata": {
        "colab": {
          "base_uri": "https://localhost:8080/"
        },
        "id": "SPH4FvTGFnFJ",
        "outputId": "4d4b46b5-effe-42df-8df7-bb93686a559c"
      },
      "execution_count": 7,
      "outputs": [
        {
          "output_type": "stream",
          "name": "stdout",
          "text": [
            "The shape of one image is :  (64, 64, 3)\n"
          ]
        }
      ]
    },
    {
      "cell_type": "code",
      "source": [
        "plt.imshow(X_train[0])\n",
        "plt.show()"
      ],
      "metadata": {
        "colab": {
          "base_uri": "https://localhost:8080/",
          "height": 432
        },
        "id": "2C7Ho6TIFpbc",
        "outputId": "f873479f-2b8f-4861-f95b-8408668f575e"
      },
      "execution_count": 8,
      "outputs": [
        {
          "output_type": "display_data",
          "data": {
            "text/plain": [
              "<Figure size 640x480 with 1 Axes>"
            ],
            "image/png": "[encoded data removed]"
          },
          "metadata": {}
        }
      ]
    },
    {
      "cell_type": "code",
      "source": [
        "X_data = X_train\n",
        "y_data = y_train\n",
        "print(\"Copies made...\")"
      ],
      "metadata": {
        "id": "OySLN2RS6FIY",
        "colab": {
          "base_uri": "https://localhost:8080/"
        },
        "outputId": "6e52ebf2-bc4e-4241-9fbf-8b83f3fb5058"
      },
      "execution_count": 9,
      "outputs": [
        {
          "output_type": "stream",
          "name": "stdout",
          "text": [
            "Copies made...\n"
          ]
        }
      ]
    },
    {
      "cell_type": "code",
      "source": [
        "from sklearn.model_selection import train_test_split\n",
        "from collections import Counter\n",
        "\n",
        "class_distributed = Counter(y_data)\n",
        "print(\"Class distibuted before filtering: \", class_distributed)\n",
        "\n",
        "min_samples_per_class = 27\n",
        "\n",
        "filtered_classes = [label for label, count in class_distributed.items() if count >= min_samples_per_class]\n",
        "selected_indices = [i for i in range(len(y_data)) if y_data[i] in filtered_classes]\n",
        "X_data_filtered = X_data[selected_indices]\n",
        "y_data_filtered = y_data[selected_indices]\n",
        "\n",
        "class_distributed_filtered = Counter(y_data_filtered)\n",
        "print(\"Class distributed after filtering: \", class_distributed_filtered)\n",
        "\n",
        "X_train, X_test, y_train, y_test = train_test_split(X_data_filtered, y_data_filtered, test_size=0.2,random_state=42,stratify=y_data_filtered)"
      ],
      "metadata": {
        "colab": {
          "base_uri": "https://localhost:8080/"
        },
        "id": "JhNasdjA6K0y",
        "outputId": "a68e0383-96d5-48d2-9f4e-ed44476598cc"
      },
      "execution_count": 10,
      "outputs": [
        {
          "output_type": "stream",
          "name": "stdout",
          "text": [
            "Class distibuted before filtering:  Counter({21: 96, 0: 86, 1: 81, 2: 81, 4: 81, 3: 81, 6: 81, 22: 81, 23: 81, 5: 80, 7: 80, 8: 80, 9: 80, 11: 80, 12: 80, 13: 80, 14: 80, 15: 80, 16: 80, 17: 80, 18: 80, 26: 80, 19: 80, 20: 80, 24: 80, 25: 80, 10: 70, 31278: 24, -1: 13, 31277: 12, -1857666768: 2, -424587904: 2, -1871699536: 2, -1857666864: 2, -1857015376: 2, -424537856: 2, -1858846928: 2, -424590784: 2, -1858972432: 2, -1857666832: 2, -424538048: 2, -1859036944: 2, -1857666800: 2, -424591104: 2, -1859037200: 2, -424686976: 2, -1858775504: 2, -1857666736: 2, 4980776: 1, -65499: 1, 1179745: 1, -65447: 1, 1114111: 1, -65506: 1, -65503: 1, -65535: 1, 5111889: 1, 4128840: 1, -65491: 1, 5636095: 1, -65493: 1, 4259839: 1, 4784203: 1, -65450: 1, 1252034786: 1, -778881199: 1, -1649739870: 1, -206803733: 1, -1147207401: 1, 855124505: 1, 1588348684: 1, 1404923558: 1, -810211674: 1, -1954284546: 1, -658710744: 1, -2057896792: 1, 1877761074: 1, -304988260: 1, 140796524: 1, -243338691: 1, -2044885198: 1, 1554692095: 1, 591318314: 1, 1546209986: 1, -1882795895: 1, 1843771165: 1, 2077104654: 1, 1484654818: 1, 273041621: 1, -1577796731: 1, -664037423: 1, -1541163942: 1})\n",
            "Class distributed after filtering:  Counter({21: 96, 0: 86, 1: 81, 2: 81, 4: 81, 3: 81, 6: 81, 22: 81, 23: 81, 5: 80, 7: 80, 8: 80, 9: 80, 11: 80, 12: 80, 13: 80, 14: 80, 15: 80, 16: 80, 17: 80, 18: 80, 26: 80, 19: 80, 20: 80, 24: 80, 25: 80, 10: 70})\n"
          ]
        }
      ]
    },
    {
      "cell_type": "code",
      "source": [
        "print(np.unique(y_train))\n",
        "print(np.unique(y_test))"
      ],
      "metadata": {
        "colab": {
          "base_uri": "https://localhost:8080/"
        },
        "id": "XFiGxoqG8mxw",
        "outputId": "306c7ad0-d673-4a7a-bf1a-15fa68bf22e8"
      },
      "execution_count": 11,
      "outputs": [
        {
          "output_type": "stream",
          "name": "stdout",
          "text": [
            "[ 0  1  2  3  4  5  6  7  8  9 10 11 12 13 14 15 16 17 18 19 20 21 22 23\n",
            " 24 25 26]\n",
            "[ 0  1  2  3  4  5  6  7  8  9 10 11 12 13 14 15 16 17 18 19 20 21 22 23\n",
            " 24 25 26]\n"
          ]
        }
      ]
    },
    {
      "cell_type": "code",
      "source": [
        "print(np.bincount(y_train))\n",
        "print(np.bincount(y_test))"
      ],
      "metadata": {
        "colab": {
          "base_uri": "https://localhost:8080/"
        },
        "id": "bD5yNDyP8uGD",
        "outputId": "cc50a321-f2c3-4e29-c0a2-60ae849f3763"
      },
      "execution_count": 12,
      "outputs": [
        {
          "output_type": "stream",
          "name": "stdout",
          "text": [
            "[68 65 65 65 65 64 65 64 64 64 56 64 64 64 64 64 64 64 64 64 64 76 65 65\n",
            " 64 64 64]\n",
            "[18 16 16 16 16 16 16 16 16 16 14 16 16 16 16 16 16 16 16 16 16 20 16 16\n",
            " 16 16 16]\n"
          ]
        }
      ]
    },
    {
      "cell_type": "code",
      "source": [
        "from keras.utils import to_categorical\n",
        "y_cat_train = to_categorical(y_train,27)\n",
        "y_cat_test = to_categorical(y_test,27)"
      ],
      "metadata": {
        "id": "loQdZKV57iJY"
      },
      "execution_count": 13,
      "outputs": []
    },
    {
      "cell_type": "code",
      "source": [
        "print(X_train.shape)\n",
        "print(y_train.shape)\n",
        "print(X_test.shape)\n",
        "print(y_test.shape)\n",
        "print(y_cat_train.shape)\n",
        "print(y_cat_test.shape)"
      ],
      "metadata": {
        "colab": {
          "base_uri": "https://localhost:8080/"
        },
        "id": "QFlDufvOI4hK",
        "outputId": "482a72cd-493e-400f-e530-91d379226372"
      },
      "execution_count": 14,
      "outputs": [
        {
          "output_type": "stream",
          "name": "stdout",
          "text": [
            "(1743, 64, 64, 3)\n",
            "(1743,)\n",
            "(436, 64, 64, 3)\n",
            "(436,)\n",
            "(1743, 27)\n",
            "(436, 27)\n"
          ]
        }
      ]
    },
    {
      "cell_type": "markdown",
      "source": [
        "#Create Model"
      ],
      "metadata": {
        "id": "trEJv9VHaBFq"
      }
    },
    {
      "cell_type": "code",
      "source": [
        "from keras.models import Sequential\n",
        "from keras.layers import Conv2D, MaxPooling2D, Activation, Dense, Flatten\n",
        "print(\"Packages imported...\")"
      ],
      "metadata": {
        "id": "K1u8GxdyaEhs",
        "colab": {
          "base_uri": "https://localhost:8080/"
        },
        "outputId": "a36b5984-1440-44d3-b4b0-80e27cd95f53"
      },
      "execution_count": 15,
      "outputs": [
        {
          "output_type": "stream",
          "name": "stdout",
          "text": [
            "Packages imported...\n"
          ]
        }
      ]
    },
    {
      "cell_type": "code",
      "source": [
        "model = Sequential()\n",
        "\n",
        "model.add(Conv2D(32, (5, 5), input_shape=(64, 64, 3)))\n",
        "model.add(Activation('relu'))\n",
        "model.add(MaxPooling2D((2, 2)))\n",
        "\n",
        "model.add(Conv2D(64, (3, 3)))\n",
        "model.add(Activation('relu'))\n",
        "model.add(MaxPooling2D((2, 2)))\n",
        "\n",
        "model.add(Conv2D(64, (3, 3)))\n",
        "model.add(Activation('relu'))\n",
        "model.add(MaxPooling2D((2, 2)))\n",
        "\n",
        "model.add(Flatten())\n",
        "\n",
        "model.add(Dense(128, activation='relu'))\n",
        "\n",
        "model.add(Dense(27, activation='softmax'))\n",
        "\n",
        "model.summary()"
      ],
      "metadata": {
        "colab": {
          "base_uri": "https://localhost:8080/"
        },
        "id": "MuyirU9a7o-b",
        "outputId": "400287e7-6e22-4a9c-dbe5-e326325988ab"
      },
      "execution_count": 16,
      "outputs": [
        {
          "output_type": "stream",
          "name": "stdout",
          "text": [
            "Model: \"sequential\"\n",
            "_________________________________________________________________\n",
            " Layer (type)                Output Shape              Param #   \n",
            "=================================================================\n",
            " conv2d (Conv2D)             (None, 60, 60, 32)        2432      \n",
            "                                                                 \n",
            " activation (Activation)     (None, 60, 60, 32)        0         \n",
            "                                                                 \n",
            " max_pooling2d (MaxPooling2  (None, 30, 30, 32)        0         \n",
            " D)                                                              \n",
            "                                                                 \n",
            " conv2d_1 (Conv2D)           (None, 28, 28, 64)        18496     \n",
            "                                                                 \n",
            " activation_1 (Activation)   (None, 28, 28, 64)        0         \n",
            "                                                                 \n",
            " max_pooling2d_1 (MaxPoolin  (None, 14, 14, 64)        0         \n",
            " g2D)                                                            \n",
            "                                                                 \n",
            " conv2d_2 (Conv2D)           (None, 12, 12, 64)        36928     \n",
            "                                                                 \n",
            " activation_2 (Activation)   (None, 12, 12, 64)        0         \n",
            "                                                                 \n",
            " max_pooling2d_2 (MaxPoolin  (None, 6, 6, 64)          0         \n",
            " g2D)                                                            \n",
            "                                                                 \n",
            " flatten (Flatten)           (None, 2304)              0         \n",
            "                                                                 \n",
            " dense (Dense)               (None, 128)               295040    \n",
            "                                                                 \n",
            " dense_1 (Dense)             (None, 27)                3483      \n",
            "                                                                 \n",
            "=================================================================\n",
            "Total params: 356379 (1.36 MB)\n",
            "Trainable params: 356379 (1.36 MB)\n",
            "Non-trainable params: 0 (0.00 Byte)\n",
            "_________________________________________________________________\n"
          ]
        }
      ]
    },
    {
      "cell_type": "code",
      "source": [
        "from keras.callbacks import EarlyStopping\n",
        "early_stop = EarlyStopping(monitor='val_loss',patience=2)"
      ],
      "metadata": {
        "id": "gAW2w-TB70J8"
      },
      "execution_count": 17,
      "outputs": []
    },
    {
      "cell_type": "markdown",
      "source": [
        "#Training"
      ],
      "metadata": {
        "id": "KKDzt7jKaFnU"
      }
    },
    {
      "cell_type": "code",
      "source": [
        "model.compile(optimizer='adam',\n",
        "              loss='categorical_crossentropy',\n",
        "              metrics=['accuracy'])"
      ],
      "metadata": {
        "id": "McghXVwy8QrQ"
      },
      "execution_count": 18,
      "outputs": []
    },
    {
      "cell_type": "code",
      "source": [
        "model.fit(X_train, y_cat_train,\n",
        "          epochs=50,\n",
        "          batch_size=64,\n",
        "          verbose=2,\n",
        "          validation_data=(X_test, y_cat_test),\n",
        "          callbacks=[early_stop])"
      ],
      "metadata": {
        "id": "db3ME7FJaHKu",
        "colab": {
          "base_uri": "https://localhost:8080/"
        },
        "outputId": "d123bfb5-d618-45f7-98c0-0a5af9f49753"
      },
      "execution_count": 19,
      "outputs": [
        {
          "output_type": "stream",
          "name": "stdout",
          "text": [
            "Epoch 1/50\n",
            "28/28 - 15s - loss: 3.2957 - accuracy: 0.0436 - val_loss: 3.2741 - val_accuracy: 0.0596 - 15s/epoch - 545ms/step\n",
            "Epoch 2/50\n",
            "28/28 - 8s - loss: 3.1539 - accuracy: 0.1004 - val_loss: 2.9484 - val_accuracy: 0.1606 - 8s/epoch - 284ms/step\n",
            "Epoch 3/50\n",
            "28/28 - 10s - loss: 2.4803 - accuracy: 0.3035 - val_loss: 2.2851 - val_accuracy: 0.3532 - 10s/epoch - 364ms/step\n",
            "Epoch 4/50\n",
            "28/28 - 10s - loss: 1.7527 - accuracy: 0.4814 - val_loss: 1.7777 - val_accuracy: 0.4656 - 10s/epoch - 358ms/step\n",
            "Epoch 5/50\n",
            "28/28 - 8s - loss: 1.2447 - accuracy: 0.6368 - val_loss: 1.5392 - val_accuracy: 0.5757 - 8s/epoch - 301ms/step\n",
            "Epoch 6/50\n",
            "28/28 - 10s - loss: 0.8934 - accuracy: 0.7378 - val_loss: 1.2580 - val_accuracy: 0.6583 - 10s/epoch - 371ms/step\n",
            "Epoch 7/50\n",
            "28/28 - 8s - loss: 0.5797 - accuracy: 0.8371 - val_loss: 1.1158 - val_accuracy: 0.6972 - 8s/epoch - 291ms/step\n",
            "Epoch 8/50\n",
            "28/28 - 11s - loss: 0.3621 - accuracy: 0.8893 - val_loss: 1.0241 - val_accuracy: 0.7592 - 11s/epoch - 401ms/step\n",
            "Epoch 9/50\n",
            "28/28 - 11s - loss: 0.2108 - accuracy: 0.9426 - val_loss: 0.8775 - val_accuracy: 0.7890 - 11s/epoch - 380ms/step\n",
            "Epoch 10/50\n",
            "28/28 - 8s - loss: 0.1472 - accuracy: 0.9593 - val_loss: 0.9576 - val_accuracy: 0.7867 - 8s/epoch - 299ms/step\n",
            "Epoch 11/50\n",
            "28/28 - 11s - loss: 0.1731 - accuracy: 0.9575 - val_loss: 0.9116 - val_accuracy: 0.7936 - 11s/epoch - 381ms/step\n"
          ]
        },
        {
          "output_type": "execute_result",
          "data": {
            "text/plain": [
              "<keras.src.callbacks.History at 0x7a2dc7edb340>"
            ]
          },
          "metadata": {},
          "execution_count": 19
        }
      ]
    },
    {
      "cell_type": "code",
      "source": [
        "import pandas as pd\n",
        "metrics = pd.DataFrame(model.history.history)\n",
        "print(\"The model metrics are\")\n",
        "metrics"
      ],
      "metadata": {
        "colab": {
          "base_uri": "https://localhost:8080/",
          "height": 412
        },
        "id": "NREacC_ULS-8",
        "outputId": "34ad01a8-732c-4fa3-dee6-bdeffaa35ca6"
      },
      "execution_count": 20,
      "outputs": [
        {
          "output_type": "stream",
          "name": "stdout",
          "text": [
            "The model metrics are\n"
          ]
        },
        {
          "output_type": "execute_result",
          "data": {
            "text/plain": [
              "        loss  accuracy  val_loss  val_accuracy\n",
              "0   3.295660  0.043603  3.274118      0.059633\n",
              "1   3.153887  0.100402  2.948380      0.160550\n",
              "2   2.480268  0.303500  2.285058      0.353211\n",
              "3   1.752702  0.481354  1.777711      0.465596\n",
              "4   1.244747  0.636833  1.539243      0.575688\n",
              "5   0.893440  0.737808  1.258024      0.658257\n",
              "6   0.579663  0.837063  1.115819      0.697248\n",
              "7   0.362089  0.889271  1.024061      0.759174\n",
              "8   0.210770  0.942628  0.877502      0.788991\n",
              "9   0.147161  0.959266  0.957572      0.786697\n",
              "10  0.173126  0.957544  0.911621      0.793578"
            ],
            "text/html": [
              "\n",
              "  <div id=\"df-01d9a123-47f4-4d8b-a352-2d442abf6660\" class=\"colab-df-container\">\n",
              "    <div>\n",
              "<style scoped>\n",
              "    .dataframe tbody tr th:only-of-type {\n",
              "        vertical-align: middle;\n",
              "    }\n",
              "\n",
              "    .dataframe tbody tr th {\n",
              "        vertical-align: top;\n",
              "    }\n",
              "\n",
              "    .dataframe thead th {\n",
              "        text-align: right;\n",
              "    }\n",
              "</style>\n",
              "<table border=\"1\" class=\"dataframe\">\n",
              "  <thead>\n",
              "    <tr style=\"text-align: right;\">\n",
              "      <th></th>\n",
              "      <th>loss</th>\n",
              "      <th>accuracy</th>\n",
              "      <th>val_loss</th>\n",
              "      <th>val_accuracy</th>\n",
              "    </tr>\n",
              "  </thead>\n",
              "  <tbody>\n",
              "    <tr>\n",
              "      <th>0</th>\n",
              "      <td>3.295660</td>\n",
              "      <td>0.043603</td>\n",
              "      <td>3.274118</td>\n",
              "      <td>0.059633</td>\n",
              "    </tr>\n",
              "    <tr>\n",
              "      <th>1</th>\n",
              "      <td>3.153887</td>\n",
              "      <td>0.100402</td>\n",
              "      <td>2.948380</td>\n",
              "      <td>0.160550</td>\n",
              "    </tr>\n",
              "    <tr>\n",
              "      <th>2</th>\n",
              "      <td>2.480268</td>\n",
              "      <td>0.303500</td>\n",
              "      <td>2.285058</td>\n",
              "      <td>0.353211</td>\n",
              "    </tr>\n",
              "    <tr>\n",
              "      <th>3</th>\n",
              "      <td>1.752702</td>\n",
              "      <td>0.481354</td>\n",
              "      <td>1.777711</td>\n",
              "      <td>0.465596</td>\n",
              "    </tr>\n",
              "    <tr>\n",
              "      <th>4</th>\n",
              "      <td>1.244747</td>\n",
              "      <td>0.636833</td>\n",
              "      <td>1.539243</td>\n",
              "      <td>0.575688</td>\n",
              "    </tr>\n",
              "    <tr>\n",
              "      <th>5</th>\n",
              "      <td>0.893440</td>\n",
              "      <td>0.737808</td>\n",
              "      <td>1.258024</td>\n",
              "      <td>0.658257</td>\n",
              "    </tr>\n",
              "    <tr>\n",
              "      <th>6</th>\n",
              "      <td>0.579663</td>\n",
              "      <td>0.837063</td>\n",
              "      <td>1.115819</td>\n",
              "      <td>0.697248</td>\n",
              "    </tr>\n",
              "    <tr>\n",
              "      <th>7</th>\n",
              "      <td>0.362089</td>\n",
              "      <td>0.889271</td>\n",
              "      <td>1.024061</td>\n",
              "      <td>0.759174</td>\n",
              "    </tr>\n",
              "    <tr>\n",
              "      <th>8</th>\n",
              "      <td>0.210770</td>\n",
              "      <td>0.942628</td>\n",
              "      <td>0.877502</td>\n",
              "      <td>0.788991</td>\n",
              "    </tr>\n",
              "    <tr>\n",
              "      <th>9</th>\n",
              "      <td>0.147161</td>\n",
              "      <td>0.959266</td>\n",
              "      <td>0.957572</td>\n",
              "      <td>0.786697</td>\n",
              "    </tr>\n",
              "    <tr>\n",
              "      <th>10</th>\n",
              "      <td>0.173126</td>\n",
              "      <td>0.957544</td>\n",
              "      <td>0.911621</td>\n",
              "      <td>0.793578</td>\n",
              "    </tr>\n",
              "  </tbody>\n",
              "</table>\n",
              "</div>\n",
              "    <div class=\"colab-df-buttons\">\n",
              "\n",
              "  <div class=\"colab-df-container\">\n",
              "    <button class=\"colab-df-convert\" onclick=\"convertToInteractive('df-01d9a123-47f4-4d8b-a352-2d442abf6660')\"\n",
              "            title=\"Convert this dataframe to an interactive table.\"\n",
              "            style=\"display:none;\">\n",
              "\n",
              "  <svg xmlns=\"http://www.w3.org/2000/svg\" height=\"24px\" viewBox=\"0 -960 960 960\">\n",
              "    <path d=\"M120-120v-720h720v720H120Zm60-500h600v-160H180v160Zm220 220h160v-160H400v160Zm0 220h160v-160H400v160ZM180-400h160v-160H180v160Zm440 0h160v-160H620v160ZM180-180h160v-160H180v160Zm440 0h160v-160H620v160Z\"/>\n",
              "  </svg>\n",
              "    </button>\n",
              "\n",
              "  <style>\n",
              "    .colab-df-container {\n",
              "      display:flex;\n",
              "      gap: 12px;\n",
              "    }\n",
              "\n",
              "    .colab-df-convert {\n",
              "      background-color: #E8F0FE;\n",
              "      border: none;\n",
              "      border-radius: 50%;\n",
              "      cursor: pointer;\n",
              "      display: none;\n",
              "      fill: #1967D2;\n",
              "      height: 32px;\n",
              "      padding: 0 0 0 0;\n",
              "      width: 32px;\n",
              "    }\n",
              "\n",
              "    .colab-df-convert:hover {\n",
              "      background-color: #E2EBFA;\n",
              "      box-shadow: 0px 1px 2px rgba(60, 64, 67, 0.3), 0px 1px 3px 1px rgba(60, 64, 67, 0.15);\n",
              "      fill: #174EA6;\n",
              "    }\n",
              "\n",
              "    .colab-df-buttons div {\n",
              "      margin-bottom: 4px;\n",
              "    }\n",
              "\n",
              "    [theme=dark] .colab-df-convert {\n",
              "      background-color: #3B4455;\n",
              "      fill: #D2E3FC;\n",
              "    }\n",
              "\n",
              "    [theme=dark] .colab-df-convert:hover {\n",
              "      background-color: #434B5C;\n",
              "      box-shadow: 0px 1px 3px 1px rgba(0, 0, 0, 0.15);\n",
              "      filter: drop-shadow(0px 1px 2px rgba(0, 0, 0, 0.3));\n",
              "      fill: #FFFFFF;\n",
              "    }\n",
              "  </style>\n",
              "\n",
              "    <script>\n",
              "      const buttonEl =\n",
              "        document.querySelector('#df-01d9a123-47f4-4d8b-a352-2d442abf6660 button.colab-df-convert');\n",
              "      buttonEl.style.display =\n",
              "        google.colab.kernel.accessAllowed ? 'block' : 'none';\n",
              "\n",
              "      async function convertToInteractive(key) {\n",
              "        const element = document.querySelector('#df-01d9a123-47f4-4d8b-a352-2d442abf6660');\n",
              "        const dataTable =\n",
              "          await google.colab.kernel.invokeFunction('convertToInteractive',\n",
              "                                                    [key], {});\n",
              "        if (!dataTable) return;\n",
              "\n",
              "        const docLinkHtml = 'Like what you see? Visit the ' +\n",
              "          '<a target=\"_blank\" href=https://colab.research.google.com/notebooks/data_table.ipynb>data table notebook</a>'\n",
              "          + ' to learn more about interactive tables.';\n",
              "        element.innerHTML = '';\n",
              "        dataTable['output_type'] = 'display_data';\n",
              "        await google.colab.output.renderOutput(dataTable, element);\n",
              "        const docLink = document.createElement('div');\n",
              "        docLink.innerHTML = docLinkHtml;\n",
              "        element.appendChild(docLink);\n",
              "      }\n",
              "    </script>\n",
              "  </div>\n",
              "\n",
              "\n",
              "<div id=\"df-cace2431-098b-43c2-b681-05b1b8a3d3c9\">\n",
              "  <button class=\"colab-df-quickchart\" onclick=\"quickchart('df-cace2431-098b-43c2-b681-05b1b8a3d3c9')\"\n",
              "            title=\"Suggest charts\"\n",
              "            style=\"display:none;\">\n",
              "\n",
              "<svg xmlns=\"http://www.w3.org/2000/svg\" height=\"24px\"viewBox=\"0 0 24 24\"\n",
              "     width=\"24px\">\n",
              "    <g>\n",
              "        <path d=\"M19 3H5c-1.1 0-2 .9-2 2v14c0 1.1.9 2 2 2h14c1.1 0 2-.9 2-2V5c0-1.1-.9-2-2-2zM9 17H7v-7h2v7zm4 0h-2V7h2v10zm4 0h-2v-4h2v4z\"/>\n",
              "    </g>\n",
              "</svg>\n",
              "  </button>\n",
              "\n",
              "<style>\n",
              "  .colab-df-quickchart {\n",
              "      --bg-color: #E8F0FE;\n",
              "      --fill-color: #1967D2;\n",
              "      --hover-bg-color: #E2EBFA;\n",
              "      --hover-fill-color: #174EA6;\n",
              "      --disabled-fill-color: #AAA;\n",
              "      --disabled-bg-color: #DDD;\n",
              "  }\n",
              "\n",
              "  [theme=dark] .colab-df-quickchart {\n",
              "      --bg-color: #3B4455;\n",
              "      --fill-color: #D2E3FC;\n",
              "      --hover-bg-color: #434B5C;\n",
              "      --hover-fill-color: #FFFFFF;\n",
              "      --disabled-bg-color: #3B4455;\n",
              "      --disabled-fill-color: #666;\n",
              "  }\n",
              "\n",
              "  .colab-df-quickchart {\n",
              "    background-color: var(--bg-color);\n",
              "    border: none;\n",
              "    border-radius: 50%;\n",
              "    cursor: pointer;\n",
              "    display: none;\n",
              "    fill: var(--fill-color);\n",
              "    height: 32px;\n",
              "    padding: 0;\n",
              "    width: 32px;\n",
              "  }\n",
              "\n",
              "  .colab-df-quickchart:hover {\n",
              "    background-color: var(--hover-bg-color);\n",
              "    box-shadow: 0 1px 2px rgba(60, 64, 67, 0.3), 0 1px 3px 1px rgba(60, 64, 67, 0.15);\n",
              "    fill: var(--button-hover-fill-color);\n",
              "  }\n",
              "\n",
              "  .colab-df-quickchart-complete:disabled,\n",
              "  .colab-df-quickchart-complete:disabled:hover {\n",
              "    background-color: var(--disabled-bg-color);\n",
              "    fill: var(--disabled-fill-color);\n",
              "    box-shadow: none;\n",
              "  }\n",
              "\n",
              "  .colab-df-spinner {\n",
              "    border: 2px solid var(--fill-color);\n",
              "    border-color: transparent;\n",
              "    border-bottom-color: var(--fill-color);\n",
              "    animation:\n",
              "      spin 1s steps(1) infinite;\n",
              "  }\n",
              "\n",
              "  @keyframes spin {\n",
              "    0% {\n",
              "      border-color: transparent;\n",
              "      border-bottom-color: var(--fill-color);\n",
              "      border-left-color: var(--fill-color);\n",
              "    }\n",
              "    20% {\n",
              "      border-color: transparent;\n",
              "      border-left-color: var(--fill-color);\n",
              "      border-top-color: var(--fill-color);\n",
              "    }\n",
              "    30% {\n",
              "      border-color: transparent;\n",
              "      border-left-color: var(--fill-color);\n",
              "      border-top-color: var(--fill-color);\n",
              "      border-right-color: var(--fill-color);\n",
              "    }\n",
              "    40% {\n",
              "      border-color: transparent;\n",
              "      border-right-color: var(--fill-color);\n",
              "      border-top-color: var(--fill-color);\n",
              "    }\n",
              "    60% {\n",
              "      border-color: transparent;\n",
              "      border-right-color: var(--fill-color);\n",
              "    }\n",
              "    80% {\n",
              "      border-color: transparent;\n",
              "      border-right-color: var(--fill-color);\n",
              "      border-bottom-color: var(--fill-color);\n",
              "    }\n",
              "    90% {\n",
              "      border-color: transparent;\n",
              "      border-bottom-color: var(--fill-color);\n",
              "    }\n",
              "  }\n",
              "</style>\n",
              "\n",
              "  <script>\n",
              "    async function quickchart(key) {\n",
              "      const quickchartButtonEl =\n",
              "        document.querySelector('#' + key + ' button');\n",
              "      quickchartButtonEl.disabled = true;  // To prevent multiple clicks.\n",
              "      quickchartButtonEl.classList.add('colab-df-spinner');\n",
              "      try {\n",
              "        const charts = await google.colab.kernel.invokeFunction(\n",
              "            'suggestCharts', [key], {});\n",
              "      } catch (error) {\n",
              "        console.error('Error during call to suggestCharts:', error);\n",
              "      }\n",
              "      quickchartButtonEl.classList.remove('colab-df-spinner');\n",
              "      quickchartButtonEl.classList.add('colab-df-quickchart-complete');\n",
              "    }\n",
              "    (() => {\n",
              "      let quickchartButtonEl =\n",
              "        document.querySelector('#df-cace2431-098b-43c2-b681-05b1b8a3d3c9 button');\n",
              "      quickchartButtonEl.style.display =\n",
              "        google.colab.kernel.accessAllowed ? 'block' : 'none';\n",
              "    })();\n",
              "  </script>\n",
              "</div>\n",
              "    </div>\n",
              "  </div>\n"
            ]
          },
          "metadata": {},
          "execution_count": 20
        }
      ]
    },
    {
      "cell_type": "code",
      "source": [
        "metrics[['loss','val_loss']].plot()\n",
        "plt.show()"
      ],
      "metadata": {
        "colab": {
          "base_uri": "https://localhost:8080/",
          "height": 430
        },
        "id": "thZo1EK4L3ze",
        "outputId": "42331367-d507-4894-b304-bea228108c50"
      },
      "execution_count": 21,
      "outputs": [
        {
          "output_type": "display_data",
          "data": {
            "text/plain": [
              "<Figure size 640x480 with 1 Axes>"
            ],
            "image/png": "[encoded data removed]"
          },
          "metadata": {}
        }
      ]
    },
    {
      "cell_type": "code",
      "source": [
        "metrics[['accuracy','val_accuracy']].plot()\n",
        "plt.show()"
      ],
      "metadata": {
        "colab": {
          "base_uri": "https://localhost:8080/",
          "height": 433
        },
        "id": "nFGTIZ_TL-ks",
        "outputId": "773e3612-20a7-48c1-aa8f-aec056401796"
      },
      "execution_count": 22,
      "outputs": [
        {
          "output_type": "display_data",
          "data": {
            "text/plain": [
              "<Figure size 640x480 with 1 Axes>"
            ],
            "image/png": "[encoded data removed]"
          },
          "metadata": {}
        }
      ]
    },
    {
      "cell_type": "code",
      "source": [
        "model.evaluate(X_test,y_cat_test,verbose=0)"
      ],
      "metadata": {
        "colab": {
          "base_uri": "https://localhost:8080/"
        },
        "id": "kEEp3r2AMHH6",
        "outputId": "1bfa0b81-e11b-44aa-951d-4af7e233f3f1"
      },
      "execution_count": 23,
      "outputs": [
        {
          "output_type": "execute_result",
          "data": {
            "text/plain": [
              "[0.9116206765174866, 0.7935779690742493]"
            ]
          },
          "metadata": {},
          "execution_count": 23
        }
      ]
    },
    {
      "cell_type": "code",
      "source": [
        "y_test = y_test.ravel()\n",
        "\n",
        "# Now, check the shape and type\n",
        "print(\"Shape of y_test:\", y_test.shape)\n",
        "print(\"Type of y_test:\", type(y_test))\n",
        "\n",
        "predictions = model.predict(X_test)\n",
        "predicted_classes = np.argmax(predictions, axis=1)\n",
        "print(\"Predictions done...\")"
      ],
      "metadata": {
        "colab": {
          "base_uri": "https://localhost:8080/"
        },
        "id": "GgrAvPkKMKIH",
        "outputId": "67a3e23b-ff1a-43c4-b48d-fcc44b47a6b7"
      },
      "execution_count": 24,
      "outputs": [
        {
          "output_type": "stream",
          "name": "stdout",
          "text": [
            "Shape of y_test: (436,)\n",
            "Type of y_test: <class 'numpy.ndarray'>\n",
            "14/14 [==============================] - 1s 62ms/step\n",
            "Predictions done...\n"
          ]
        }
      ]
    },
    {
      "cell_type": "code",
      "source": [
        "from sklearn.metrics import classification_report, confusion_matrix\n",
        "print(classification_report(y_test,predicted_classes))"
      ],
      "metadata": {
        "colab": {
          "base_uri": "https://localhost:8080/"
        },
        "id": "3W_7k7vTNNPi",
        "outputId": "f4dcfb8b-1e5d-447a-ef75-f2a3efe784f9"
      },
      "execution_count": 25,
      "outputs": [
        {
          "output_type": "stream",
          "name": "stdout",
          "text": [
            "              precision    recall  f1-score   support\n",
            "\n",
            "           0       0.90      1.00      0.95        18\n",
            "           1       0.79      0.69      0.73        16\n",
            "           2       1.00      0.88      0.93        16\n",
            "           3       0.71      0.94      0.81        16\n",
            "           4       0.76      1.00      0.86        16\n",
            "           5       1.00      0.94      0.97        16\n",
            "           6       0.78      0.88      0.82        16\n",
            "           7       0.83      0.94      0.88        16\n",
            "           8       0.73      0.50      0.59        16\n",
            "           9       0.38      0.56      0.45        16\n",
            "          10       0.82      0.64      0.72        14\n",
            "          11       0.87      0.81      0.84        16\n",
            "          12       0.88      0.88      0.88        16\n",
            "          13       0.73      1.00      0.84        16\n",
            "          14       0.72      0.81      0.76        16\n",
            "          15       0.93      0.81      0.87        16\n",
            "          16       0.94      0.94      0.94        16\n",
            "          17       0.48      0.81      0.60        16\n",
            "          18       0.91      0.62      0.74        16\n",
            "          19       0.88      0.88      0.88        16\n",
            "          20       0.83      0.62      0.71        16\n",
            "          21       0.94      0.75      0.83        20\n",
            "          22       0.69      0.69      0.69        16\n",
            "          23       0.90      0.56      0.69        16\n",
            "          24       0.94      0.94      0.94        16\n",
            "          25       0.75      0.38      0.50        16\n",
            "          26       0.94      0.94      0.94        16\n",
            "\n",
            "    accuracy                           0.79       436\n",
            "   macro avg       0.81      0.79      0.79       436\n",
            "weighted avg       0.82      0.79      0.79       436\n",
            "\n"
          ]
        }
      ]
    },
    {
      "cell_type": "code",
      "source": [
        "plt.figure(figsize=(12,12))\n",
        "sns.heatmap(confusion_matrix(y_test,predicted_classes))\n",
        "plt.show()"
      ],
      "metadata": {
        "colab": {
          "base_uri": "https://localhost:8080/",
          "height": 990
        },
        "id": "iP4jVzeoW1h8",
        "outputId": "3903faf6-841d-43e5-c7b8-0139eca6f6ce"
      },
      "execution_count": 26,
      "outputs": [
        {
          "output_type": "display_data",
          "data": {
            "text/plain": [
              "<Figure size 1200x1200 with 2 Axes>"
            ],
            "image/png": "[encoded data removed]"
          },
          "metadata": {}
        }
      ]
    },
    {
      "cell_type": "code",
      "source": [
        "model.save('your_model_name.h5')"
      ],
      "metadata": {
        "id": "r4eU4mpmgz6g"
      },
      "execution_count": null,
      "outputs": []
    },
    {
      "cell_type": "code",
      "source": [
        "import tensorflow as tf\n",
        "# Save the model in the SavedModel format\n",
        "model.save('/content/drive/MyDrive/Capstone/data_sign_language/model')\n",
        "\n",
        "# Convert the SavedModel to TensorFlow.js format\n",
        "!tensorflowjs_converter --input_format=tf_saved_model --output_format=tfjs_graph_model --signature_name=serving_default --saved_model_tags=serve /content/drive/MyDrive/Capstone/data_sign_language/model /content/drive/MyDrive/Capstone/data_sign_language/model"
      ],
      "metadata": {
        "colab": {
          "base_uri": "https://localhost:8080/"
        },
        "id": "_XUMO_abeWAZ",
        "outputId": "e593d421-c254-40be-fe4b-fd04640d134c"
      },
      "execution_count": 45,
      "outputs": [
        {
          "output_type": "stream",
          "name": "stdout",
          "text": [
            "2023-12-13 23:31:46.217874: E external/local_xla/xla/stream_executor/cuda/cuda_dnn.cc:9261] Unable to register cuDNN factory: Attempting to register factory for plugin cuDNN when one has already been registered\n",
            "2023-12-13 23:31:46.217927: E external/local_xla/xla/stream_executor/cuda/cuda_fft.cc:607] Unable to register cuFFT factory: Attempting to register factory for plugin cuFFT when one has already been registered\n",
            "2023-12-13 23:31:46.219126: E external/local_xla/xla/stream_executor/cuda/cuda_blas.cc:1515] Unable to register cuBLAS factory: Attempting to register factory for plugin cuBLAS when one has already been registered\n",
            "2023-12-13 23:31:47.444100: W tensorflow/compiler/tf2tensorrt/utils/py_utils.cc:38] TF-TRT Warning: Could not find TensorRT\n",
            "2023-12-13 23:31:50.146216: W tensorflow/core/common_runtime/gpu/gpu_device.cc:2256] Cannot dlopen some GPU libraries. Please make sure the missing libraries mentioned above are installed properly if you would like to use GPU. Follow the guide at https://www.tensorflow.org/install/gpu for how to download and setup the required libraries for your platform.\n",
            "Skipping registering GPU devices...\n",
            "2023-12-13 23:31:50.625772: W tensorflow/core/common_runtime/gpu/gpu_device.cc:2256] Cannot dlopen some GPU libraries. Please make sure the missing libraries mentioned above are installed properly if you would like to use GPU. Follow the guide at https://www.tensorflow.org/install/gpu for how to download and setup the required libraries for your platform.\n",
            "Skipping registering GPU devices...\n",
            "Traceback (most recent call last):\n",
            "  File \"/usr/local/bin/tensorflowjs_converter\", line 8, in <module>\n",
            "    sys.exit(pip_main())\n",
            "  File \"/usr/local/lib/python3.10/dist-packages/tensorflowjs/converters/converter.py\", line 958, in pip_main\n",
            "    main([' '.join(sys.argv[1:])])\n",
            "  File \"/usr/local/lib/python3.10/dist-packages/tensorflowjs/converters/converter.py\", line 962, in main\n",
            "    convert(argv[0].split(' '))\n",
            "  File \"/usr/local/lib/python3.10/dist-packages/tensorflowjs/converters/converter.py\", line 948, in convert\n",
            "    _dispatch_converter(input_format, output_format, args, quantization_dtype_map,\n",
            "  File \"/usr/local/lib/python3.10/dist-packages/tensorflowjs/converters/converter.py\", line 654, in _dispatch_converter\n",
            "    tf_saved_model_conversion_v2.convert_tf_saved_model(\n",
            "  File \"/usr/local/lib/python3.10/dist-packages/tensorflowjs/converters/tf_saved_model_conversion_v2.py\", line 982, in convert_tf_saved_model\n",
            "    _convert_tf_saved_model(output_dir, saved_model_dir=saved_model_dir,\n",
            "  File \"/usr/local/lib/python3.10/dist-packages/tensorflowjs/converters/tf_saved_model_conversion_v2.py\", line 871, in _convert_tf_saved_model\n",
            "    write_artifacts(MessageToDict(optimized_graph),\n",
            "  File \"/usr/local/lib/python3.10/dist-packages/tensorflowjs/converters/tf_saved_model_conversion_v2.py\", line 341, in write_artifacts\n",
            "    weights_manifest = write_weights.write_weights(\n",
            "  File \"/usr/local/lib/python3.10/dist-packages/tensorflowjs/write_weights.py\", line 135, in write_weights\n",
            "    shard_filenames = _shard_group_bytes_to_disk(\n",
            "  File \"/usr/local/lib/python3.10/dist-packages/tensorflowjs/write_weights.py\", line 306, in _shard_group_bytes_to_disk\n",
            "    f.write(shard)\n",
            "  File \"/usr/local/lib/python3.10/dist-packages/tensorflow/python/lib/io/file_io.py\", line 100, in write\n",
            "    self._prewrite_check()\n",
            "  File \"/usr/local/lib/python3.10/dist-packages/tensorflow/python/lib/io/file_io.py\", line 85, in _prewrite_check\n",
            "    self._writable_file = _pywrap_file_io.WritableFile(\n",
            "tensorflow.python.framework.errors_impl.FailedPreconditionError: /content/path_to_tfjs_model/model.json/group1-shard1of1.bin; Not a directory\n"
          ]
        }
      ]
    }
  ]
}